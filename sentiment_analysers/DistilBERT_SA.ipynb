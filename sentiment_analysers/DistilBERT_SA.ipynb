{
 "cells": [
  {
   "cell_type": "markdown",
   "metadata": {},
   "source": [
    "# Ensemble Sentiment Analyser\n",
    "\n",
    "## Author: Felipe Valencia\n",
    "\n",
    "This project has the purpose to test the accuracy of several sentiment analysis libraries and to create an ensemble-like model to get the best outcome for classification of sentiment into a 5-star metric."
   ]
  },
  {
   "cell_type": "code",
   "execution_count": 2,
   "metadata": {},
   "outputs": [],
   "source": [
    "# Install libraries\n",
    "#!pip install torch\n",
    "#!pip install transformers"
   ]
  },
  {
   "cell_type": "code",
   "execution_count": 3,
   "metadata": {},
   "outputs": [],
   "source": [
    "# Load libraries\n",
    "import pandas as pd\n"
   ]
  },
  {
   "cell_type": "code",
   "execution_count": 4,
   "metadata": {},
   "outputs": [],
   "source": [
    "# Read CSV\n",
    "\n",
    "data_file = pd.read_csv(\"Datafiniti_Hotel_Reviews.csv\")"
   ]
  },
  {
   "cell_type": "code",
   "execution_count": 5,
   "metadata": {},
   "outputs": [],
   "source": [
    "# Convert ratings from float to integer\n",
    "\n",
    "data_file['reviews.rating'] = data_file['reviews.rating'].astype(int)\n",
    "\n",
    "# Convert text to string\n",
    "\n",
    "data_file['reviews.text'] = data_file['reviews.text'].astype(str)"
   ]
  },
  {
   "cell_type": "code",
   "execution_count": 6,
   "metadata": {},
   "outputs": [],
   "source": [
    "# Simplify the dataframe\n",
    "\n",
    "data = data_file[['id', 'reviews.rating', 'reviews.text']]"
   ]
  },
  {
   "cell_type": "code",
   "execution_count": 7,
   "metadata": {},
   "outputs": [
    {
     "data": {
      "text/html": [
       "<div>\n",
       "<style scoped>\n",
       "    .dataframe tbody tr th:only-of-type {\n",
       "        vertical-align: middle;\n",
       "    }\n",
       "\n",
       "    .dataframe tbody tr th {\n",
       "        vertical-align: top;\n",
       "    }\n",
       "\n",
       "    .dataframe thead th {\n",
       "        text-align: right;\n",
       "    }\n",
       "</style>\n",
       "<table border=\"1\" class=\"dataframe\">\n",
       "  <thead>\n",
       "    <tr style=\"text-align: right;\">\n",
       "      <th></th>\n",
       "      <th>id</th>\n",
       "      <th>reviews.rating</th>\n",
       "      <th>reviews.text</th>\n",
       "    </tr>\n",
       "  </thead>\n",
       "  <tbody>\n",
       "    <tr>\n",
       "      <th>0</th>\n",
       "      <td>AVwc252WIN2L1WUfpqLP</td>\n",
       "      <td>5</td>\n",
       "      <td>Our experience at Rancho Valencia was absolute...</td>\n",
       "    </tr>\n",
       "    <tr>\n",
       "      <th>1</th>\n",
       "      <td>AVwc252WIN2L1WUfpqLP</td>\n",
       "      <td>5</td>\n",
       "      <td>Amazing place. Everyone was extremely warm and...</td>\n",
       "    </tr>\n",
       "    <tr>\n",
       "      <th>2</th>\n",
       "      <td>AVwc252WIN2L1WUfpqLP</td>\n",
       "      <td>5</td>\n",
       "      <td>We booked a 3 night stay at Rancho Valencia to...</td>\n",
       "    </tr>\n",
       "    <tr>\n",
       "      <th>3</th>\n",
       "      <td>AVwdOclqIN2L1WUfti38</td>\n",
       "      <td>2</td>\n",
       "      <td>Currently in bed writing this for the past hr ...</td>\n",
       "    </tr>\n",
       "    <tr>\n",
       "      <th>4</th>\n",
       "      <td>AVwdOclqIN2L1WUfti38</td>\n",
       "      <td>5</td>\n",
       "      <td>I live in Md and the Aloft is my Home away fro...</td>\n",
       "    </tr>\n",
       "    <tr>\n",
       "      <th>...</th>\n",
       "      <td>...</td>\n",
       "      <td>...</td>\n",
       "      <td>...</td>\n",
       "    </tr>\n",
       "    <tr>\n",
       "      <th>9995</th>\n",
       "      <td>AVwd4TMv_7pvs4fz-Ers</td>\n",
       "      <td>3</td>\n",
       "      <td>It is hard for me to review an oceanfront hote...</td>\n",
       "    </tr>\n",
       "    <tr>\n",
       "      <th>9996</th>\n",
       "      <td>AVwdRp4DIN2L1WUfuGZZ</td>\n",
       "      <td>4</td>\n",
       "      <td>I live close by, and needed to stay somewhere ...</td>\n",
       "    </tr>\n",
       "    <tr>\n",
       "      <th>9997</th>\n",
       "      <td>AVwd1TbkByjofQCxs6FH</td>\n",
       "      <td>4</td>\n",
       "      <td>Rolled in 11:30 laid out heads down woke up to...</td>\n",
       "    </tr>\n",
       "    <tr>\n",
       "      <th>9998</th>\n",
       "      <td>AVwdHbizIN2L1WUfsXto</td>\n",
       "      <td>1</td>\n",
       "      <td>Absolutely terrible..I was told I was being gi...</td>\n",
       "    </tr>\n",
       "    <tr>\n",
       "      <th>9999</th>\n",
       "      <td>AVwddMfdIN2L1WUfwAue</td>\n",
       "      <td>1</td>\n",
       "      <td>Filthy, outdated, noisy neighbours, but this w...</td>\n",
       "    </tr>\n",
       "  </tbody>\n",
       "</table>\n",
       "<p>10000 rows × 3 columns</p>\n",
       "</div>"
      ],
      "text/plain": [
       "                        id  reviews.rating  \\\n",
       "0     AVwc252WIN2L1WUfpqLP               5   \n",
       "1     AVwc252WIN2L1WUfpqLP               5   \n",
       "2     AVwc252WIN2L1WUfpqLP               5   \n",
       "3     AVwdOclqIN2L1WUfti38               2   \n",
       "4     AVwdOclqIN2L1WUfti38               5   \n",
       "...                    ...             ...   \n",
       "9995  AVwd4TMv_7pvs4fz-Ers               3   \n",
       "9996  AVwdRp4DIN2L1WUfuGZZ               4   \n",
       "9997  AVwd1TbkByjofQCxs6FH               4   \n",
       "9998  AVwdHbizIN2L1WUfsXto               1   \n",
       "9999  AVwddMfdIN2L1WUfwAue               1   \n",
       "\n",
       "                                           reviews.text  \n",
       "0     Our experience at Rancho Valencia was absolute...  \n",
       "1     Amazing place. Everyone was extremely warm and...  \n",
       "2     We booked a 3 night stay at Rancho Valencia to...  \n",
       "3     Currently in bed writing this for the past hr ...  \n",
       "4     I live in Md and the Aloft is my Home away fro...  \n",
       "...                                                 ...  \n",
       "9995  It is hard for me to review an oceanfront hote...  \n",
       "9996  I live close by, and needed to stay somewhere ...  \n",
       "9997  Rolled in 11:30 laid out heads down woke up to...  \n",
       "9998  Absolutely terrible..I was told I was being gi...  \n",
       "9999  Filthy, outdated, noisy neighbours, but this w...  \n",
       "\n",
       "[10000 rows x 3 columns]"
      ]
     },
     "execution_count": 7,
     "metadata": {},
     "output_type": "execute_result"
    }
   ],
   "source": [
    "data"
   ]
  },
  {
   "cell_type": "code",
   "execution_count": 8,
   "metadata": {},
   "outputs": [
    {
     "name": "stderr",
     "output_type": "stream",
     "text": [
      "C:\\Users\\felip\\AppData\\Local\\Packages\\PythonSoftwareFoundation.Python.3.11_qbz5n2kfra8p0\\LocalCache\\local-packages\\Python311\\site-packages\\tqdm\\auto.py:21: TqdmWarning: IProgress not found. Please update jupyter and ipywidgets. See https://ipywidgets.readthedocs.io/en/stable/user_install.html\n",
      "  from .autonotebook import tqdm as notebook_tqdm\n"
     ]
    }
   ],
   "source": [
    "import torch\n",
    "from transformers import DistilBertTokenizer, DistilBertForSequenceClassification\n",
    "from tqdm import tqdm\n",
    "import time\n",
    "import numpy as np"
   ]
  },
  {
   "cell_type": "code",
   "execution_count": 9,
   "metadata": {},
   "outputs": [],
   "source": [
    "# Load model and tokenizer\n",
    "tokenizer = DistilBertTokenizer.from_pretrained(\"distilbert-base-uncased-finetuned-sst-2-english\")\n",
    "model = DistilBertForSequenceClassification.from_pretrained(\"distilbert-base-uncased-finetuned-sst-2-english\")"
   ]
  },
  {
   "cell_type": "code",
   "execution_count": 10,
   "metadata": {},
   "outputs": [],
   "source": [
    "# Move to GPU if available\n",
    "if torch.cuda.is_available():\n",
    "    model = model.cuda()\n",
    "\n",
    "def process_in_batches(texts, batch_size=64):\n",
    "    sentiments = []\n",
    "    texts_list = texts.tolist()\n",
    "    \n",
    "    for i in tqdm(range(0, len(texts_list), batch_size)):\n",
    "        batch = texts_list[i:i + batch_size]\n",
    "        inputs = tokenizer(\n",
    "            batch,\n",
    "            padding=True,\n",
    "            truncation=True,\n",
    "            max_length=512,\n",
    "            return_tensors=\"pt\"\n",
    "        )\n",
    "        \n",
    "        if torch.cuda.is_available():\n",
    "            inputs = {k: v.cuda() for k, v in inputs.items()}\n",
    "        \n",
    "        with torch.no_grad():\n",
    "            logits = model(**inputs).logits\n",
    "            probabilities = torch.nn.functional.softmax(logits, dim=-1)\n",
    "            positive_probs = probabilities[:, 1].cpu()\n",
    "            \n",
    "            for prob in positive_probs:\n",
    "                prob = prob.item()\n",
    "                if prob > 0.8:\n",
    "                    sentiments.append(5)\n",
    "                elif prob > 0.6:\n",
    "                    sentiments.append(4)\n",
    "                elif prob > 0.4:\n",
    "                    sentiments.append(3)\n",
    "                elif prob < 0.4:\n",
    "                    sentiments.append(2)\n",
    "                else:\n",
    "                    sentiments.append(1)\n",
    "    \n",
    "    return sentiments"
   ]
  },
  {
   "cell_type": "code",
   "execution_count": 11,
   "metadata": {},
   "outputs": [
    {
     "name": "stdout",
     "output_type": "stream",
     "text": [
      "Starting sentiment analysis...\n"
     ]
    },
    {
     "name": "stderr",
     "output_type": "stream",
     "text": [
      "100%|██████████| 157/157 [20:45<00:00,  7.93s/it]"
     ]
    },
    {
     "name": "stdout",
     "output_type": "stream",
     "text": [
      "Processing completed in 20.76 minutes\n"
     ]
    },
    {
     "name": "stderr",
     "output_type": "stream",
     "text": [
      "\n",
      "C:\\Users\\felip\\AppData\\Local\\Temp\\ipykernel_20008\\2564891713.py:10: SettingWithCopyWarning: \n",
      "A value is trying to be set on a copy of a slice from a DataFrame.\n",
      "Try using .loc[row_indexer,col_indexer] = value instead\n",
      "\n",
      "See the caveats in the documentation: https://pandas.pydata.org/pandas-docs/stable/user_guide/indexing.html#returning-a-view-versus-a-copy\n",
      "  data['distilbert.sentiment'] = ''\n"
     ]
    }
   ],
   "source": [
    "# Process the reviews\n",
    "print(\"Starting sentiment analysis...\")\n",
    "start_time = time.time()\n",
    "\n",
    "valid_reviews = data['reviews.text'].dropna()\n",
    "valid_indices = valid_reviews.index\n",
    "sentiments = process_in_batches(valid_reviews)\n",
    "\n",
    "# Update the DataFrame\n",
    "data['distilbert.sentiment'] = ''\n",
    "data.loc[valid_indices, 'distilbert.sentiment'] = sentiments\n",
    "\n",
    "print(f\"Processing completed in {(time.time() - start_time) / 60:.2f} minutes\")"
   ]
  },
  {
   "cell_type": "code",
   "execution_count": 12,
   "metadata": {},
   "outputs": [
    {
     "data": {
      "text/html": [
       "<div>\n",
       "<style scoped>\n",
       "    .dataframe tbody tr th:only-of-type {\n",
       "        vertical-align: middle;\n",
       "    }\n",
       "\n",
       "    .dataframe tbody tr th {\n",
       "        vertical-align: top;\n",
       "    }\n",
       "\n",
       "    .dataframe thead th {\n",
       "        text-align: right;\n",
       "    }\n",
       "</style>\n",
       "<table border=\"1\" class=\"dataframe\">\n",
       "  <thead>\n",
       "    <tr style=\"text-align: right;\">\n",
       "      <th></th>\n",
       "      <th>id</th>\n",
       "      <th>reviews.rating</th>\n",
       "      <th>reviews.text</th>\n",
       "      <th>distilbert.sentiment</th>\n",
       "    </tr>\n",
       "  </thead>\n",
       "  <tbody>\n",
       "    <tr>\n",
       "      <th>0</th>\n",
       "      <td>AVwc252WIN2L1WUfpqLP</td>\n",
       "      <td>5</td>\n",
       "      <td>Our experience at Rancho Valencia was absolute...</td>\n",
       "      <td>5</td>\n",
       "    </tr>\n",
       "    <tr>\n",
       "      <th>1</th>\n",
       "      <td>AVwc252WIN2L1WUfpqLP</td>\n",
       "      <td>5</td>\n",
       "      <td>Amazing place. Everyone was extremely warm and...</td>\n",
       "      <td>5</td>\n",
       "    </tr>\n",
       "    <tr>\n",
       "      <th>2</th>\n",
       "      <td>AVwc252WIN2L1WUfpqLP</td>\n",
       "      <td>5</td>\n",
       "      <td>We booked a 3 night stay at Rancho Valencia to...</td>\n",
       "      <td>5</td>\n",
       "    </tr>\n",
       "    <tr>\n",
       "      <th>3</th>\n",
       "      <td>AVwdOclqIN2L1WUfti38</td>\n",
       "      <td>2</td>\n",
       "      <td>Currently in bed writing this for the past hr ...</td>\n",
       "      <td>2</td>\n",
       "    </tr>\n",
       "    <tr>\n",
       "      <th>4</th>\n",
       "      <td>AVwdOclqIN2L1WUfti38</td>\n",
       "      <td>5</td>\n",
       "      <td>I live in Md and the Aloft is my Home away fro...</td>\n",
       "      <td>5</td>\n",
       "    </tr>\n",
       "    <tr>\n",
       "      <th>...</th>\n",
       "      <td>...</td>\n",
       "      <td>...</td>\n",
       "      <td>...</td>\n",
       "      <td>...</td>\n",
       "    </tr>\n",
       "    <tr>\n",
       "      <th>9995</th>\n",
       "      <td>AVwd4TMv_7pvs4fz-Ers</td>\n",
       "      <td>3</td>\n",
       "      <td>It is hard for me to review an oceanfront hote...</td>\n",
       "      <td>5</td>\n",
       "    </tr>\n",
       "    <tr>\n",
       "      <th>9996</th>\n",
       "      <td>AVwdRp4DIN2L1WUfuGZZ</td>\n",
       "      <td>4</td>\n",
       "      <td>I live close by, and needed to stay somewhere ...</td>\n",
       "      <td>5</td>\n",
       "    </tr>\n",
       "    <tr>\n",
       "      <th>9997</th>\n",
       "      <td>AVwd1TbkByjofQCxs6FH</td>\n",
       "      <td>4</td>\n",
       "      <td>Rolled in 11:30 laid out heads down woke up to...</td>\n",
       "      <td>5</td>\n",
       "    </tr>\n",
       "    <tr>\n",
       "      <th>9998</th>\n",
       "      <td>AVwdHbizIN2L1WUfsXto</td>\n",
       "      <td>1</td>\n",
       "      <td>Absolutely terrible..I was told I was being gi...</td>\n",
       "      <td>2</td>\n",
       "    </tr>\n",
       "    <tr>\n",
       "      <th>9999</th>\n",
       "      <td>AVwddMfdIN2L1WUfwAue</td>\n",
       "      <td>1</td>\n",
       "      <td>Filthy, outdated, noisy neighbours, but this w...</td>\n",
       "      <td>2</td>\n",
       "    </tr>\n",
       "  </tbody>\n",
       "</table>\n",
       "<p>10000 rows × 4 columns</p>\n",
       "</div>"
      ],
      "text/plain": [
       "                        id  reviews.rating  \\\n",
       "0     AVwc252WIN2L1WUfpqLP               5   \n",
       "1     AVwc252WIN2L1WUfpqLP               5   \n",
       "2     AVwc252WIN2L1WUfpqLP               5   \n",
       "3     AVwdOclqIN2L1WUfti38               2   \n",
       "4     AVwdOclqIN2L1WUfti38               5   \n",
       "...                    ...             ...   \n",
       "9995  AVwd4TMv_7pvs4fz-Ers               3   \n",
       "9996  AVwdRp4DIN2L1WUfuGZZ               4   \n",
       "9997  AVwd1TbkByjofQCxs6FH               4   \n",
       "9998  AVwdHbizIN2L1WUfsXto               1   \n",
       "9999  AVwddMfdIN2L1WUfwAue               1   \n",
       "\n",
       "                                           reviews.text distilbert.sentiment  \n",
       "0     Our experience at Rancho Valencia was absolute...                    5  \n",
       "1     Amazing place. Everyone was extremely warm and...                    5  \n",
       "2     We booked a 3 night stay at Rancho Valencia to...                    5  \n",
       "3     Currently in bed writing this for the past hr ...                    2  \n",
       "4     I live in Md and the Aloft is my Home away fro...                    5  \n",
       "...                                                 ...                  ...  \n",
       "9995  It is hard for me to review an oceanfront hote...                    5  \n",
       "9996  I live close by, and needed to stay somewhere ...                    5  \n",
       "9997  Rolled in 11:30 laid out heads down woke up to...                    5  \n",
       "9998  Absolutely terrible..I was told I was being gi...                    2  \n",
       "9999  Filthy, outdated, noisy neighbours, but this w...                    2  \n",
       "\n",
       "[10000 rows x 4 columns]"
      ]
     },
     "execution_count": 12,
     "metadata": {},
     "output_type": "execute_result"
    }
   ],
   "source": [
    "data"
   ]
  },
  {
   "cell_type": "code",
   "execution_count": 13,
   "metadata": {},
   "outputs": [],
   "source": [
    "# Save DataFrame to CSV\n",
    "data.to_csv('output_DistilBert.csv', index=False)  # Set index=False to avoid saving row indices"
   ]
  }
 ],
 "metadata": {
  "kernelspec": {
   "display_name": "Python 3",
   "language": "python",
   "name": "python3"
  },
  "language_info": {
   "codemirror_mode": {
    "name": "ipython",
    "version": 3
   },
   "file_extension": ".py",
   "mimetype": "text/x-python",
   "name": "python",
   "nbconvert_exporter": "python",
   "pygments_lexer": "ipython3",
   "version": "3.11.9"
  }
 },
 "nbformat": 4,
 "nbformat_minor": 2
}
